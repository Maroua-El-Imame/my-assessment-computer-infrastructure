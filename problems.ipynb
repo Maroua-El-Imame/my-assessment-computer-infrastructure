{
 "cells": [
  {
   "cell_type": "markdown",
   "id": "6f2a3870",
   "metadata": {},
   "source": [
    "# Assessment Problems\n",
    "\n",
    "This notebook outlines the assessment problems presented in problems.md sheet of Computer Infrastructure module, as follows :"
   ]
  },
  {
   "cell_type": "markdown",
   "id": "c9791321",
   "metadata": {},
   "source": [
    "### 🔹Problem 1: Data from yfinance  "
   ]
  },
  {
   "cell_type": "markdown",
   "id": "fd913543",
   "metadata": {},
   "source": [
    "### 🔹Problem 2: Plotting Data"
   ]
  },
  {
   "cell_type": "markdown",
   "id": "4595b375",
   "metadata": {},
   "source": [
    "### 🔹Problem 3: Script"
   ]
  },
  {
   "cell_type": "markdown",
   "id": "167746cd",
   "metadata": {},
   "source": [
    "### 🔹Problem 4: Automation  "
   ]
  },
  {
   "cell_type": "markdown",
   "id": "9da5caec",
   "metadata": {},
   "source": [
    "#### **End**"
   ]
  },
  {
   "cell_type": "markdown",
   "id": "3bc4e074",
   "metadata": {},
   "source": []
  }
 ],
 "metadata": {
  "language_info": {
   "name": "python"
  }
 },
 "nbformat": 4,
 "nbformat_minor": 5
}
